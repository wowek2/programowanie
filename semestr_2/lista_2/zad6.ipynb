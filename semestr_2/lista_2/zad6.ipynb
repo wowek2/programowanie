{
 "cells": [
  {
   "cell_type": "code",
   "execution_count": null,
   "metadata": {},
   "outputs": [
    {
     "name": "stdout",
     "output_type": "stream",
     "text": [
      "   235\n",
      "    72\n",
      "    18\n",
      "+ 2945\n",
      "------\n"
     ]
    }
   ],
   "source": [
    "def format_addition(expression, show_result=True):\n",
    "    numbers = list(map(int, expression.split('+')))\n",
    "\n",
    "    max_width = max(len(str(num)) for num in numbers)\n",
    "    \n",
    "    output = \"\\n\".join(f\"  {num:>{max_width}}\" for num in numbers[:-1])\n",
    "    output += f\"\\n+ {numbers[-1]:>{max_width}}\"\n",
    "    output += f\"\\n{'-' * (max_width + 2)}\"\n",
    "    \n",
    "    if show_result:\n",
    "        result = sum(numbers)\n",
    "        output += f\"\\n  {result:>{max_width}}\"\n",
    "    \n",
    "    return output\n",
    "\n",
    "expression = \"235+72+18+2945\"\n",
    "print(format_addition(expression, True))"
   ]
  },
  {
   "cell_type": "code",
   "execution_count": null,
   "metadata": {},
   "outputs": [],
   "source": []
  }
 ],
 "metadata": {
  "kernelspec": {
   "display_name": "Pytorch",
   "language": "python",
   "name": "pytorch-ml"
  },
  "language_info": {
   "codemirror_mode": {
    "name": "ipython",
    "version": 3
   },
   "file_extension": ".py",
   "mimetype": "text/x-python",
   "name": "python",
   "nbconvert_exporter": "python",
   "pygments_lexer": "ipython3",
   "version": "3.13.2"
  }
 },
 "nbformat": 4,
 "nbformat_minor": 2
}
